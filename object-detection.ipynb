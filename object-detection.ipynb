{
 "cells": [
  {
   "cell_type": "markdown",
   "id": "3b53a34b",
   "metadata": {},
   "source": [
    "# Dependencies\n"
   ]
  },
  {
   "cell_type": "code",
   "execution_count": 3,
   "id": "1dabc8d1",
   "metadata": {
    "scrolled": false
   },
   "outputs": [
    {
     "name": "stdout",
     "output_type": "stream",
     "text": [
      "Looking in links: https://download.pytorch.org/whl/lts/1.8/torch_lts.html\n",
      "Requirement already satisfied: torch==1.8.2+cpu in c:\\users\\danny\\anaconda3\\lib\\site-packages (1.8.2+cpu)\n",
      "Requirement already satisfied: torchvision==0.9.2+cpu in c:\\users\\danny\\anaconda3\\lib\\site-packages (0.9.2+cpu)\n",
      "Requirement already satisfied: torchaudio===0.8.2 in c:\\users\\danny\\anaconda3\\lib\\site-packages (0.8.2)\n",
      "Requirement already satisfied: typing-extensions in c:\\users\\danny\\anaconda3\\lib\\site-packages (from torch==1.8.2+cpu) (3.10.0.2)\n",
      "Requirement already satisfied: numpy in c:\\users\\danny\\anaconda3\\lib\\site-packages (from torch==1.8.2+cpu) (1.20.3)\n",
      "Requirement already satisfied: pillow>=4.1.1 in c:\\users\\danny\\anaconda3\\lib\\site-packages (from torchvision==0.9.2+cpu) (8.4.0)\n"
     ]
    }
   ],
   "source": [
    "!pip install torch==1.8.2+cpu torchvision==0.9.2+cpu torchaudio===0.8.2 -f https://download.pytorch.org/whl/lts/1.8/torch_lts.html"
   ]
  },
  {
   "cell_type": "code",
   "execution_count": 4,
   "id": "171b6e8c",
   "metadata": {
    "scrolled": false
   },
   "outputs": [
    {
     "name": "stderr",
     "output_type": "stream",
     "text": [
      "Cloning into 'yolov5'...\n"
     ]
    }
   ],
   "source": [
    "!git clone https://github.com/ultralytics/yolov5"
   ]
  },
  {
   "cell_type": "code",
   "execution_count": 6,
   "id": "18faf324",
   "metadata": {
    "collapsed": true
   },
   "outputs": [
    {
     "name": "stdout",
     "output_type": "stream",
     "text": [
      "Requirement already satisfied: matplotlib>=3.2.2 in c:\\users\\danny\\anaconda3\\lib\\site-packages (from -r requirements.txt (line 4)) (3.4.3)\n",
      "Requirement already satisfied: numpy>=1.18.5 in c:\\users\\danny\\anaconda3\\lib\\site-packages (from -r requirements.txt (line 5)) (1.20.3)\n",
      "Requirement already satisfied: opencv-python>=4.1.2 in c:\\users\\danny\\anaconda3\\lib\\site-packages (from -r requirements.txt (line 6)) (4.5.5.64)\n",
      "Requirement already satisfied: Pillow>=7.1.2 in c:\\users\\danny\\anaconda3\\lib\\site-packages (from -r requirements.txt (line 7)) (8.4.0)\n",
      "Requirement already satisfied: PyYAML>=5.3.1 in c:\\users\\danny\\anaconda3\\lib\\site-packages (from -r requirements.txt (line 8)) (6.0)\n",
      "Requirement already satisfied: requests>=2.23.0 in c:\\users\\danny\\anaconda3\\lib\\site-packages (from -r requirements.txt (line 9)) (2.26.0)\n",
      "Requirement already satisfied: scipy>=1.4.1 in c:\\users\\danny\\anaconda3\\lib\\site-packages (from -r requirements.txt (line 10)) (1.7.1)\n",
      "Requirement already satisfied: torch>=1.7.0 in c:\\users\\danny\\anaconda3\\lib\\site-packages (from -r requirements.txt (line 11)) (1.8.2+cpu)\n",
      "Requirement already satisfied: torchvision>=0.8.1 in c:\\users\\danny\\anaconda3\\lib\\site-packages (from -r requirements.txt (line 12)) (0.9.2+cpu)\n",
      "Requirement already satisfied: tqdm>=4.41.0 in c:\\users\\danny\\anaconda3\\lib\\site-packages (from -r requirements.txt (line 13)) (4.62.3)\n",
      "Requirement already satisfied: tensorboard>=2.4.1 in c:\\users\\danny\\anaconda3\\lib\\site-packages (from -r requirements.txt (line 16)) (2.8.0)\n",
      "Requirement already satisfied: pandas>=1.1.4 in c:\\users\\danny\\anaconda3\\lib\\site-packages (from -r requirements.txt (line 20)) (1.3.4)\n",
      "Requirement already satisfied: seaborn>=0.11.0 in c:\\users\\danny\\anaconda3\\lib\\site-packages (from -r requirements.txt (line 21)) (0.11.2)\n",
      "Requirement already satisfied: thop in c:\\users\\danny\\anaconda3\\lib\\site-packages (from -r requirements.txt (line 37)) (0.0.31.post2005241907)\n",
      "Requirement already satisfied: python-dateutil>=2.7 in c:\\users\\danny\\anaconda3\\lib\\site-packages (from matplotlib>=3.2.2->-r requirements.txt (line 4)) (2.8.2)\n",
      "Requirement already satisfied: cycler>=0.10 in c:\\users\\danny\\anaconda3\\lib\\site-packages (from matplotlib>=3.2.2->-r requirements.txt (line 4)) (0.10.0)\n",
      "Requirement already satisfied: kiwisolver>=1.0.1 in c:\\users\\danny\\anaconda3\\lib\\site-packages (from matplotlib>=3.2.2->-r requirements.txt (line 4)) (1.3.1)\n",
      "Requirement already satisfied: pyparsing>=2.2.1 in c:\\users\\danny\\anaconda3\\lib\\site-packages (from matplotlib>=3.2.2->-r requirements.txt (line 4)) (3.0.4)\n",
      "Requirement already satisfied: charset-normalizer~=2.0.0 in c:\\users\\danny\\anaconda3\\lib\\site-packages (from requests>=2.23.0->-r requirements.txt (line 9)) (2.0.4)\n",
      "Requirement already satisfied: certifi>=2017.4.17 in c:\\users\\danny\\anaconda3\\lib\\site-packages (from requests>=2.23.0->-r requirements.txt (line 9)) (2021.10.8)\n",
      "Requirement already satisfied: urllib3<1.27,>=1.21.1 in c:\\users\\danny\\anaconda3\\lib\\site-packages (from requests>=2.23.0->-r requirements.txt (line 9)) (1.26.7)\n",
      "Requirement already satisfied: idna<4,>=2.5 in c:\\users\\danny\\anaconda3\\lib\\site-packages (from requests>=2.23.0->-r requirements.txt (line 9)) (3.2)\n",
      "Requirement already satisfied: typing-extensions in c:\\users\\danny\\anaconda3\\lib\\site-packages (from torch>=1.7.0->-r requirements.txt (line 11)) (3.10.0.2)\n",
      "Requirement already satisfied: colorama in c:\\users\\danny\\anaconda3\\lib\\site-packages (from tqdm>=4.41.0->-r requirements.txt (line 13)) (0.4.4)\n",
      "Requirement already satisfied: markdown>=2.6.8 in c:\\users\\danny\\anaconda3\\lib\\site-packages (from tensorboard>=2.4.1->-r requirements.txt (line 16)) (3.3.6)\n",
      "Requirement already satisfied: setuptools>=41.0.0 in c:\\users\\danny\\anaconda3\\lib\\site-packages (from tensorboard>=2.4.1->-r requirements.txt (line 16)) (58.0.4)\n",
      "Requirement already satisfied: protobuf>=3.6.0 in c:\\users\\danny\\anaconda3\\lib\\site-packages (from tensorboard>=2.4.1->-r requirements.txt (line 16)) (3.20.0)\n",
      "Requirement already satisfied: grpcio>=1.24.3 in c:\\users\\danny\\anaconda3\\lib\\site-packages (from tensorboard>=2.4.1->-r requirements.txt (line 16)) (1.44.0)\n",
      "Requirement already satisfied: werkzeug>=0.11.15 in c:\\users\\danny\\anaconda3\\lib\\site-packages (from tensorboard>=2.4.1->-r requirements.txt (line 16)) (2.0.2)\n",
      "Requirement already satisfied: absl-py>=0.4 in c:\\users\\danny\\anaconda3\\lib\\site-packages (from tensorboard>=2.4.1->-r requirements.txt (line 16)) (1.0.0)\n",
      "Requirement already satisfied: tensorboard-data-server<0.7.0,>=0.6.0 in c:\\users\\danny\\anaconda3\\lib\\site-packages (from tensorboard>=2.4.1->-r requirements.txt (line 16)) (0.6.1)\n",
      "Requirement already satisfied: google-auth-oauthlib<0.5,>=0.4.1 in c:\\users\\danny\\anaconda3\\lib\\site-packages (from tensorboard>=2.4.1->-r requirements.txt (line 16)) (0.4.6)\n",
      "Requirement already satisfied: google-auth<3,>=1.6.3 in c:\\users\\danny\\anaconda3\\lib\\site-packages (from tensorboard>=2.4.1->-r requirements.txt (line 16)) (2.6.5)\n",
      "Requirement already satisfied: tensorboard-plugin-wit>=1.6.0 in c:\\users\\danny\\anaconda3\\lib\\site-packages (from tensorboard>=2.4.1->-r requirements.txt (line 16)) (1.8.1)\n",
      "Requirement already satisfied: wheel>=0.26 in c:\\users\\danny\\anaconda3\\lib\\site-packages (from tensorboard>=2.4.1->-r requirements.txt (line 16)) (0.37.0)\n",
      "Requirement already satisfied: pytz>=2017.3 in c:\\users\\danny\\anaconda3\\lib\\site-packages (from pandas>=1.1.4->-r requirements.txt (line 20)) (2021.3)\n",
      "Requirement already satisfied: six in c:\\users\\danny\\anaconda3\\lib\\site-packages (from absl-py>=0.4->tensorboard>=2.4.1->-r requirements.txt (line 16)) (1.16.0)\n",
      "Requirement already satisfied: cachetools<6.0,>=2.0.0 in c:\\users\\danny\\anaconda3\\lib\\site-packages (from google-auth<3,>=1.6.3->tensorboard>=2.4.1->-r requirements.txt (line 16)) (5.0.0)\n",
      "Requirement already satisfied: pyasn1-modules>=0.2.1 in c:\\users\\danny\\anaconda3\\lib\\site-packages (from google-auth<3,>=1.6.3->tensorboard>=2.4.1->-r requirements.txt (line 16)) (0.2.8)\n",
      "Requirement already satisfied: rsa<5,>=3.1.4 in c:\\users\\danny\\anaconda3\\lib\\site-packages (from google-auth<3,>=1.6.3->tensorboard>=2.4.1->-r requirements.txt (line 16)) (4.8)\n",
      "Requirement already satisfied: requests-oauthlib>=0.7.0 in c:\\users\\danny\\anaconda3\\lib\\site-packages (from google-auth-oauthlib<0.5,>=0.4.1->tensorboard>=2.4.1->-r requirements.txt (line 16)) (1.3.1)\n",
      "Requirement already satisfied: importlib-metadata>=4.4 in c:\\users\\danny\\anaconda3\\lib\\site-packages (from markdown>=2.6.8->tensorboard>=2.4.1->-r requirements.txt (line 16)) (4.8.1)\n",
      "Requirement already satisfied: zipp>=0.5 in c:\\users\\danny\\anaconda3\\lib\\site-packages (from importlib-metadata>=4.4->markdown>=2.6.8->tensorboard>=2.4.1->-r requirements.txt (line 16)) (3.6.0)\n",
      "Requirement already satisfied: pyasn1<0.5.0,>=0.4.6 in c:\\users\\danny\\anaconda3\\lib\\site-packages (from pyasn1-modules>=0.2.1->google-auth<3,>=1.6.3->tensorboard>=2.4.1->-r requirements.txt (line 16)) (0.4.8)\n",
      "Requirement already satisfied: oauthlib>=3.0.0 in c:\\users\\danny\\anaconda3\\lib\\site-packages (from requests-oauthlib>=0.7.0->google-auth-oauthlib<0.5,>=0.4.1->tensorboard>=2.4.1->-r requirements.txt (line 16)) (3.2.0)\n"
     ]
    }
   ],
   "source": [
    "!cd yolov5 & pip install -r requirements.txt"
   ]
  },
  {
   "cell_type": "code",
   "execution_count": 2,
   "id": "9aaf65a7",
   "metadata": {},
   "outputs": [],
   "source": [
    "import torch\n",
    "from matplotlib import pyplot as plt\n",
    "import numpy as np\n",
    "import cv2"
   ]
  },
  {
   "cell_type": "markdown",
   "id": "694b1aaa",
   "metadata": {},
   "source": [
    "# Model\n"
   ]
  },
  {
   "cell_type": "code",
   "execution_count": 3,
   "id": "b5018baa",
   "metadata": {},
   "outputs": [
    {
     "name": "stderr",
     "output_type": "stream",
     "text": [
      "Using cache found in C:\\Users\\Danny/.cache\\torch\\hub\\ultralytics_yolov5_master\n",
      "YOLOv5  2022-4-15 torch 1.8.2+cpu CPU\n",
      "\n",
      "Fusing layers... \n",
      "YOLOv5s summary: 213 layers, 7225885 parameters, 0 gradients, 16.5 GFLOPs\n",
      "Adding AutoShape... \n"
     ]
    }
   ],
   "source": [
    "model = torch.hub.load('ultralytics/yolov5', 'yolov5s')"
   ]
  },
  {
   "cell_type": "code",
   "execution_count": 4,
   "id": "b5a09ba9",
   "metadata": {},
   "outputs": [
    {
     "data": {
      "text/plain": [
       "AutoShape(\n",
       "  (model): DetectMultiBackend(\n",
       "    (model): Model(\n",
       "      (model): Sequential(\n",
       "        (0): Conv(\n",
       "          (conv): Conv2d(3, 32, kernel_size=(6, 6), stride=(2, 2), padding=(2, 2))\n",
       "          (act): SiLU(inplace=True)\n",
       "        )\n",
       "        (1): Conv(\n",
       "          (conv): Conv2d(32, 64, kernel_size=(3, 3), stride=(2, 2), padding=(1, 1))\n",
       "          (act): SiLU(inplace=True)\n",
       "        )\n",
       "        (2): C3(\n",
       "          (cv1): Conv(\n",
       "            (conv): Conv2d(64, 32, kernel_size=(1, 1), stride=(1, 1))\n",
       "            (act): SiLU(inplace=True)\n",
       "          )\n",
       "          (cv2): Conv(\n",
       "            (conv): Conv2d(64, 32, kernel_size=(1, 1), stride=(1, 1))\n",
       "            (act): SiLU(inplace=True)\n",
       "          )\n",
       "          (cv3): Conv(\n",
       "            (conv): Conv2d(64, 64, kernel_size=(1, 1), stride=(1, 1))\n",
       "            (act): SiLU(inplace=True)\n",
       "          )\n",
       "          (m): Sequential(\n",
       "            (0): Bottleneck(\n",
       "              (cv1): Conv(\n",
       "                (conv): Conv2d(32, 32, kernel_size=(1, 1), stride=(1, 1))\n",
       "                (act): SiLU(inplace=True)\n",
       "              )\n",
       "              (cv2): Conv(\n",
       "                (conv): Conv2d(32, 32, kernel_size=(3, 3), stride=(1, 1), padding=(1, 1))\n",
       "                (act): SiLU(inplace=True)\n",
       "              )\n",
       "            )\n",
       "          )\n",
       "        )\n",
       "        (3): Conv(\n",
       "          (conv): Conv2d(64, 128, kernel_size=(3, 3), stride=(2, 2), padding=(1, 1))\n",
       "          (act): SiLU(inplace=True)\n",
       "        )\n",
       "        (4): C3(\n",
       "          (cv1): Conv(\n",
       "            (conv): Conv2d(128, 64, kernel_size=(1, 1), stride=(1, 1))\n",
       "            (act): SiLU(inplace=True)\n",
       "          )\n",
       "          (cv2): Conv(\n",
       "            (conv): Conv2d(128, 64, kernel_size=(1, 1), stride=(1, 1))\n",
       "            (act): SiLU(inplace=True)\n",
       "          )\n",
       "          (cv3): Conv(\n",
       "            (conv): Conv2d(128, 128, kernel_size=(1, 1), stride=(1, 1))\n",
       "            (act): SiLU(inplace=True)\n",
       "          )\n",
       "          (m): Sequential(\n",
       "            (0): Bottleneck(\n",
       "              (cv1): Conv(\n",
       "                (conv): Conv2d(64, 64, kernel_size=(1, 1), stride=(1, 1))\n",
       "                (act): SiLU(inplace=True)\n",
       "              )\n",
       "              (cv2): Conv(\n",
       "                (conv): Conv2d(64, 64, kernel_size=(3, 3), stride=(1, 1), padding=(1, 1))\n",
       "                (act): SiLU(inplace=True)\n",
       "              )\n",
       "            )\n",
       "            (1): Bottleneck(\n",
       "              (cv1): Conv(\n",
       "                (conv): Conv2d(64, 64, kernel_size=(1, 1), stride=(1, 1))\n",
       "                (act): SiLU(inplace=True)\n",
       "              )\n",
       "              (cv2): Conv(\n",
       "                (conv): Conv2d(64, 64, kernel_size=(3, 3), stride=(1, 1), padding=(1, 1))\n",
       "                (act): SiLU(inplace=True)\n",
       "              )\n",
       "            )\n",
       "          )\n",
       "        )\n",
       "        (5): Conv(\n",
       "          (conv): Conv2d(128, 256, kernel_size=(3, 3), stride=(2, 2), padding=(1, 1))\n",
       "          (act): SiLU(inplace=True)\n",
       "        )\n",
       "        (6): C3(\n",
       "          (cv1): Conv(\n",
       "            (conv): Conv2d(256, 128, kernel_size=(1, 1), stride=(1, 1))\n",
       "            (act): SiLU(inplace=True)\n",
       "          )\n",
       "          (cv2): Conv(\n",
       "            (conv): Conv2d(256, 128, kernel_size=(1, 1), stride=(1, 1))\n",
       "            (act): SiLU(inplace=True)\n",
       "          )\n",
       "          (cv3): Conv(\n",
       "            (conv): Conv2d(256, 256, kernel_size=(1, 1), stride=(1, 1))\n",
       "            (act): SiLU(inplace=True)\n",
       "          )\n",
       "          (m): Sequential(\n",
       "            (0): Bottleneck(\n",
       "              (cv1): Conv(\n",
       "                (conv): Conv2d(128, 128, kernel_size=(1, 1), stride=(1, 1))\n",
       "                (act): SiLU(inplace=True)\n",
       "              )\n",
       "              (cv2): Conv(\n",
       "                (conv): Conv2d(128, 128, kernel_size=(3, 3), stride=(1, 1), padding=(1, 1))\n",
       "                (act): SiLU(inplace=True)\n",
       "              )\n",
       "            )\n",
       "            (1): Bottleneck(\n",
       "              (cv1): Conv(\n",
       "                (conv): Conv2d(128, 128, kernel_size=(1, 1), stride=(1, 1))\n",
       "                (act): SiLU(inplace=True)\n",
       "              )\n",
       "              (cv2): Conv(\n",
       "                (conv): Conv2d(128, 128, kernel_size=(3, 3), stride=(1, 1), padding=(1, 1))\n",
       "                (act): SiLU(inplace=True)\n",
       "              )\n",
       "            )\n",
       "            (2): Bottleneck(\n",
       "              (cv1): Conv(\n",
       "                (conv): Conv2d(128, 128, kernel_size=(1, 1), stride=(1, 1))\n",
       "                (act): SiLU(inplace=True)\n",
       "              )\n",
       "              (cv2): Conv(\n",
       "                (conv): Conv2d(128, 128, kernel_size=(3, 3), stride=(1, 1), padding=(1, 1))\n",
       "                (act): SiLU(inplace=True)\n",
       "              )\n",
       "            )\n",
       "          )\n",
       "        )\n",
       "        (7): Conv(\n",
       "          (conv): Conv2d(256, 512, kernel_size=(3, 3), stride=(2, 2), padding=(1, 1))\n",
       "          (act): SiLU(inplace=True)\n",
       "        )\n",
       "        (8): C3(\n",
       "          (cv1): Conv(\n",
       "            (conv): Conv2d(512, 256, kernel_size=(1, 1), stride=(1, 1))\n",
       "            (act): SiLU(inplace=True)\n",
       "          )\n",
       "          (cv2): Conv(\n",
       "            (conv): Conv2d(512, 256, kernel_size=(1, 1), stride=(1, 1))\n",
       "            (act): SiLU(inplace=True)\n",
       "          )\n",
       "          (cv3): Conv(\n",
       "            (conv): Conv2d(512, 512, kernel_size=(1, 1), stride=(1, 1))\n",
       "            (act): SiLU(inplace=True)\n",
       "          )\n",
       "          (m): Sequential(\n",
       "            (0): Bottleneck(\n",
       "              (cv1): Conv(\n",
       "                (conv): Conv2d(256, 256, kernel_size=(1, 1), stride=(1, 1))\n",
       "                (act): SiLU(inplace=True)\n",
       "              )\n",
       "              (cv2): Conv(\n",
       "                (conv): Conv2d(256, 256, kernel_size=(3, 3), stride=(1, 1), padding=(1, 1))\n",
       "                (act): SiLU(inplace=True)\n",
       "              )\n",
       "            )\n",
       "          )\n",
       "        )\n",
       "        (9): SPPF(\n",
       "          (cv1): Conv(\n",
       "            (conv): Conv2d(512, 256, kernel_size=(1, 1), stride=(1, 1))\n",
       "            (act): SiLU(inplace=True)\n",
       "          )\n",
       "          (cv2): Conv(\n",
       "            (conv): Conv2d(1024, 512, kernel_size=(1, 1), stride=(1, 1))\n",
       "            (act): SiLU(inplace=True)\n",
       "          )\n",
       "          (m): MaxPool2d(kernel_size=5, stride=1, padding=2, dilation=1, ceil_mode=False)\n",
       "        )\n",
       "        (10): Conv(\n",
       "          (conv): Conv2d(512, 256, kernel_size=(1, 1), stride=(1, 1))\n",
       "          (act): SiLU(inplace=True)\n",
       "        )\n",
       "        (11): Upsample(scale_factor=2.0, mode=nearest)\n",
       "        (12): Concat()\n",
       "        (13): C3(\n",
       "          (cv1): Conv(\n",
       "            (conv): Conv2d(512, 128, kernel_size=(1, 1), stride=(1, 1))\n",
       "            (act): SiLU(inplace=True)\n",
       "          )\n",
       "          (cv2): Conv(\n",
       "            (conv): Conv2d(512, 128, kernel_size=(1, 1), stride=(1, 1))\n",
       "            (act): SiLU(inplace=True)\n",
       "          )\n",
       "          (cv3): Conv(\n",
       "            (conv): Conv2d(256, 256, kernel_size=(1, 1), stride=(1, 1))\n",
       "            (act): SiLU(inplace=True)\n",
       "          )\n",
       "          (m): Sequential(\n",
       "            (0): Bottleneck(\n",
       "              (cv1): Conv(\n",
       "                (conv): Conv2d(128, 128, kernel_size=(1, 1), stride=(1, 1))\n",
       "                (act): SiLU(inplace=True)\n",
       "              )\n",
       "              (cv2): Conv(\n",
       "                (conv): Conv2d(128, 128, kernel_size=(3, 3), stride=(1, 1), padding=(1, 1))\n",
       "                (act): SiLU(inplace=True)\n",
       "              )\n",
       "            )\n",
       "          )\n",
       "        )\n",
       "        (14): Conv(\n",
       "          (conv): Conv2d(256, 128, kernel_size=(1, 1), stride=(1, 1))\n",
       "          (act): SiLU(inplace=True)\n",
       "        )\n",
       "        (15): Upsample(scale_factor=2.0, mode=nearest)\n",
       "        (16): Concat()\n",
       "        (17): C3(\n",
       "          (cv1): Conv(\n",
       "            (conv): Conv2d(256, 64, kernel_size=(1, 1), stride=(1, 1))\n",
       "            (act): SiLU(inplace=True)\n",
       "          )\n",
       "          (cv2): Conv(\n",
       "            (conv): Conv2d(256, 64, kernel_size=(1, 1), stride=(1, 1))\n",
       "            (act): SiLU(inplace=True)\n",
       "          )\n",
       "          (cv3): Conv(\n",
       "            (conv): Conv2d(128, 128, kernel_size=(1, 1), stride=(1, 1))\n",
       "            (act): SiLU(inplace=True)\n",
       "          )\n",
       "          (m): Sequential(\n",
       "            (0): Bottleneck(\n",
       "              (cv1): Conv(\n",
       "                (conv): Conv2d(64, 64, kernel_size=(1, 1), stride=(1, 1))\n",
       "                (act): SiLU(inplace=True)\n",
       "              )\n",
       "              (cv2): Conv(\n",
       "                (conv): Conv2d(64, 64, kernel_size=(3, 3), stride=(1, 1), padding=(1, 1))\n",
       "                (act): SiLU(inplace=True)\n",
       "              )\n",
       "            )\n",
       "          )\n",
       "        )\n",
       "        (18): Conv(\n",
       "          (conv): Conv2d(128, 128, kernel_size=(3, 3), stride=(2, 2), padding=(1, 1))\n",
       "          (act): SiLU(inplace=True)\n",
       "        )\n",
       "        (19): Concat()\n",
       "        (20): C3(\n",
       "          (cv1): Conv(\n",
       "            (conv): Conv2d(256, 128, kernel_size=(1, 1), stride=(1, 1))\n",
       "            (act): SiLU(inplace=True)\n",
       "          )\n",
       "          (cv2): Conv(\n",
       "            (conv): Conv2d(256, 128, kernel_size=(1, 1), stride=(1, 1))\n",
       "            (act): SiLU(inplace=True)\n",
       "          )\n",
       "          (cv3): Conv(\n",
       "            (conv): Conv2d(256, 256, kernel_size=(1, 1), stride=(1, 1))\n",
       "            (act): SiLU(inplace=True)\n",
       "          )\n",
       "          (m): Sequential(\n",
       "            (0): Bottleneck(\n",
       "              (cv1): Conv(\n",
       "                (conv): Conv2d(128, 128, kernel_size=(1, 1), stride=(1, 1))\n",
       "                (act): SiLU(inplace=True)\n",
       "              )\n",
       "              (cv2): Conv(\n",
       "                (conv): Conv2d(128, 128, kernel_size=(3, 3), stride=(1, 1), padding=(1, 1))\n",
       "                (act): SiLU(inplace=True)\n",
       "              )\n",
       "            )\n",
       "          )\n",
       "        )\n",
       "        (21): Conv(\n",
       "          (conv): Conv2d(256, 256, kernel_size=(3, 3), stride=(2, 2), padding=(1, 1))\n",
       "          (act): SiLU(inplace=True)\n",
       "        )\n",
       "        (22): Concat()\n",
       "        (23): C3(\n",
       "          (cv1): Conv(\n",
       "            (conv): Conv2d(512, 256, kernel_size=(1, 1), stride=(1, 1))\n",
       "            (act): SiLU(inplace=True)\n",
       "          )\n",
       "          (cv2): Conv(\n",
       "            (conv): Conv2d(512, 256, kernel_size=(1, 1), stride=(1, 1))\n",
       "            (act): SiLU(inplace=True)\n",
       "          )\n",
       "          (cv3): Conv(\n",
       "            (conv): Conv2d(512, 512, kernel_size=(1, 1), stride=(1, 1))\n",
       "            (act): SiLU(inplace=True)\n",
       "          )\n",
       "          (m): Sequential(\n",
       "            (0): Bottleneck(\n",
       "              (cv1): Conv(\n",
       "                (conv): Conv2d(256, 256, kernel_size=(1, 1), stride=(1, 1))\n",
       "                (act): SiLU(inplace=True)\n",
       "              )\n",
       "              (cv2): Conv(\n",
       "                (conv): Conv2d(256, 256, kernel_size=(3, 3), stride=(1, 1), padding=(1, 1))\n",
       "                (act): SiLU(inplace=True)\n",
       "              )\n",
       "            )\n",
       "          )\n",
       "        )\n",
       "        (24): Detect(\n",
       "          (m): ModuleList(\n",
       "            (0): Conv2d(128, 255, kernel_size=(1, 1), stride=(1, 1))\n",
       "            (1): Conv2d(256, 255, kernel_size=(1, 1), stride=(1, 1))\n",
       "            (2): Conv2d(512, 255, kernel_size=(1, 1), stride=(1, 1))\n",
       "          )\n",
       "        )\n",
       "      )\n",
       "    )\n",
       "  )\n",
       ")"
      ]
     },
     "execution_count": 4,
     "metadata": {},
     "output_type": "execute_result"
    }
   ],
   "source": [
    "model"
   ]
  },
  {
   "cell_type": "markdown",
   "id": "356bc1f7",
   "metadata": {},
   "source": [
    "# Image Detections"
   ]
  },
  {
   "cell_type": "code",
   "execution_count": 5,
   "id": "5268075c",
   "metadata": {},
   "outputs": [],
   "source": [
    "img = 'https://www.skigranitepeak.com/wp-content/uploads/bb-plugin/cache/awesome_trio2-panorama.jpg'"
   ]
  },
  {
   "cell_type": "code",
   "execution_count": 6,
   "id": "cb66bc11",
   "metadata": {},
   "outputs": [
    {
     "name": "stderr",
     "output_type": "stream",
     "text": [
      "image 1/1: 809x1619 3 persons, 2 skiss, 1 snowboard\n",
      "Speed: 817.7ms pre-process, 169.3ms inference, 15.6ms NMS per image at shape (1, 3, 320, 640)\n"
     ]
    }
   ],
   "source": [
    "results = model(img)\n",
    "results.print()"
   ]
  },
  {
   "cell_type": "code",
   "execution_count": 7,
   "id": "f88833ce",
   "metadata": {},
   "outputs": [
    {
     "data": {
      "image/png": "[encoded data removed]",
      "text/plain": [
       "<Figure size 432x288 with 1 Axes>"
      ]
     },
     "metadata": {
      "needs_background": "light"
     },
     "output_type": "display_data"
    }
   ],
   "source": [
    "%matplotlib inline\n",
    "plt.imshow(np.squeeze(results.render()))\n",
    "plt.show()"
   ]
  },
  {
   "cell_type": "markdown",
   "id": "077e2247",
   "metadata": {},
   "source": [
    "# Video Detections"
   ]
  },
  {
   "cell_type": "code",
   "execution_count": 8,
   "id": "e2ba2380",
   "metadata": {},
   "outputs": [],
   "source": [
    "cap = cv2.VideoCapture('driving.mp4')\n",
    "\n",
    "while cap.isOpened():\n",
    "    ret, frame = cap.read()\n",
    "    \n",
    "    \n",
    "    \n",
    "    results = model(frame)\n",
    "    \n",
    "    cv2.imshow('Object Detection', np.squeeze(results.render()))\n",
    "    \n",
    "    if cv2.waitKey(1) & 0xFF == ord('q'):\n",
    "        break\n",
    "cap.release()\n",
    "cv2.destroyAllWindows()"
   ]
  },
  {
   "cell_type": "markdown",
   "id": "0f58111e",
   "metadata": {},
   "source": [
    "# Webcam Detection\n"
   ]
  },
  {
   "cell_type": "code",
   "execution_count": 88,
   "id": "5d80e78d",
   "metadata": {},
   "outputs": [],
   "source": [
    "cap = cv2.VideoCapture(1)\n",
    "while cap.isOpened():\n",
    "    ret, frame = cap.read()\n",
    "    \n",
    "    results = model(frame)\n",
    "    \n",
    "    cv2.imshow('Object Detection', np.squeeze(results.render()))\n",
    "    \n",
    "    if cv2.waitKey(10) & 0xFF == ord('q'):\n",
    "        break\n",
    "cap.release()\n",
    "cv2.destroyAllWindows()"
   ]
  },
  {
   "cell_type": "markdown",
   "id": "62437965",
   "metadata": {},
   "source": [
    "# Train Custom Model"
   ]
  },
  {
   "cell_type": "code",
   "execution_count": 9,
   "id": "f821e855",
   "metadata": {},
   "outputs": [],
   "source": [
    "import uuid #used to name images\n",
    "import os #file paths\n",
    "import time #break between image collection"
   ]
  },
  {
   "cell_type": "code",
   "execution_count": 10,
   "id": "c61b28a6",
   "metadata": {},
   "outputs": [],
   "source": [
    "IMAGES_PATH = os.path.join('data', 'images') #Setting image path: data/images \n",
    "labels = ['no mask', 'mask']\n",
    "number_images = 20"
   ]
  },
  {
   "cell_type": "code",
   "execution_count": 16,
   "id": "ed0a2719",
   "metadata": {},
   "outputs": [
    {
     "name": "stdout",
     "output_type": "stream",
     "text": [
      "Collecting images for no mask\n",
      "Collecting images for no mask, image number 0\n",
      "Collecting images for no mask, image number 1\n",
      "Collecting images for no mask, image number 2\n",
      "Collecting images for no mask, image number 3\n",
      "Collecting images for no mask, image number 4\n",
      "Collecting images for no mask, image number 5\n",
      "Collecting images for no mask, image number 6\n",
      "Collecting images for no mask, image number 7\n",
      "Collecting images for no mask, image number 8\n",
      "Collecting images for no mask, image number 9\n",
      "Collecting images for no mask, image number 10\n",
      "Collecting images for no mask, image number 11\n",
      "Collecting images for no mask, image number 12\n",
      "Collecting images for no mask, image number 13\n",
      "Collecting images for no mask, image number 14\n",
      "Collecting images for no mask, image number 15\n",
      "Collecting images for no mask, image number 16\n",
      "Collecting images for no mask, image number 17\n",
      "Collecting images for no mask, image number 18\n",
      "Collecting images for no mask, image number 19\n",
      "Collecting images for mask\n",
      "Collecting images for mask, image number 0\n",
      "Collecting images for mask, image number 1\n",
      "Collecting images for mask, image number 2\n",
      "Collecting images for mask, image number 3\n",
      "Collecting images for mask, image number 4\n",
      "Collecting images for mask, image number 5\n",
      "Collecting images for mask, image number 6\n",
      "Collecting images for mask, image number 7\n",
      "Collecting images for mask, image number 8\n",
      "Collecting images for mask, image number 9\n",
      "Collecting images for mask, image number 10\n",
      "Collecting images for mask, image number 11\n",
      "Collecting images for mask, image number 12\n",
      "Collecting images for mask, image number 13\n",
      "Collecting images for mask, image number 14\n",
      "Collecting images for mask, image number 15\n",
      "Collecting images for mask, image number 16\n",
      "Collecting images for mask, image number 17\n",
      "Collecting images for mask, image number 18\n",
      "Collecting images for mask, image number 19\n"
     ]
    }
   ],
   "source": [
    "cap = cv2.VideoCapture(0)\n",
    "\n",
    "#label loop\n",
    "for label in labels:\n",
    "    print(\"Collecting images for {}\".format(label))\n",
    "    time.sleep(5)\n",
    "    \n",
    "    #image loop\n",
    "    for img_num in range(number_images):\n",
    "        print(\"Collecting images for {}, image number {}\".format(label, img_num))\n",
    "        \n",
    "        ret, frame = cap.read()\n",
    "        \n",
    "        #sets the location and format of image\n",
    "        image_name = os.path.join(IMAGES_PATH, label+'.'+str(uuid.uuid1())+'.jpg')\n",
    "        \n",
    "        #writes the current webcam frame into image_name which contains path and format\n",
    "        cv2.imwrite(image_name, frame)\n",
    "        \n",
    "        #shows image\n",
    "        cv2.imshow('Image Collection', frame)\n",
    "        \n",
    "        #allows delay to reposition for next image capture\n",
    "        time.sleep(2)\n",
    "\n",
    "        if cv2.waitKey(1) & 0xFF == ord('q'):\n",
    "            break\n",
    "cap.release()\n",
    "cv2.destroyAllWindows()"
   ]
  },
  {
   "cell_type": "code",
   "execution_count": 142,
   "id": "5fcd66bd",
   "metadata": {
    "collapsed": true
   },
   "outputs": [
    {
     "name": "stdout",
     "output_type": "stream",
     "text": [
      "Collecting images for no mask\n",
      "Collecting images for no mask, image number 0\n",
      "data\\images\\no mask.5a9a9153-bd32-11ec-ab86-04d9f5803693.jpg\n",
      "Collecting images for no mask, image number 1\n",
      "data\\images\\no mask.5a9a9154-bd32-11ec-b966-04d9f5803693.jpg\n",
      "Collecting images for no mask, image number 2\n",
      "data\\images\\no mask.5a9a9155-bd32-11ec-8c3a-04d9f5803693.jpg\n",
      "Collecting images for no mask, image number 3\n",
      "data\\images\\no mask.5a9a9156-bd32-11ec-82e1-04d9f5803693.jpg\n",
      "Collecting images for no mask, image number 4\n",
      "data\\images\\no mask.5a9a9157-bd32-11ec-8abc-04d9f5803693.jpg\n",
      "Collecting images for no mask, image number 5\n",
      "data\\images\\no mask.5a9a9158-bd32-11ec-bb73-04d9f5803693.jpg\n",
      "Collecting images for no mask, image number 6\n",
      "data\\images\\no mask.5a9a9159-bd32-11ec-ab6d-04d9f5803693.jpg\n",
      "Collecting images for no mask, image number 7\n",
      "data\\images\\no mask.5a9a915a-bd32-11ec-9eb4-04d9f5803693.jpg\n",
      "Collecting images for no mask, image number 8\n",
      "data\\images\\no mask.5a9a915b-bd32-11ec-8b4a-04d9f5803693.jpg\n",
      "Collecting images for no mask, image number 9\n",
      "data\\images\\no mask.5a9a915c-bd32-11ec-9866-04d9f5803693.jpg\n",
      "Collecting images for no mask, image number 10\n",
      "data\\images\\no mask.5a9a915d-bd32-11ec-949e-04d9f5803693.jpg\n",
      "Collecting images for no mask, image number 11\n",
      "data\\images\\no mask.5a9ab868-bd32-11ec-85e2-04d9f5803693.jpg\n",
      "Collecting images for no mask, image number 12\n",
      "data\\images\\no mask.5a9ab869-bd32-11ec-ba7a-04d9f5803693.jpg\n",
      "Collecting images for no mask, image number 13\n",
      "data\\images\\no mask.5a9ab86a-bd32-11ec-9b30-04d9f5803693.jpg\n",
      "Collecting images for no mask, image number 14\n",
      "data\\images\\no mask.5a9ab86b-bd32-11ec-b298-04d9f5803693.jpg\n",
      "Collecting images for no mask, image number 15\n",
      "data\\images\\no mask.5a9ab86c-bd32-11ec-9f00-04d9f5803693.jpg\n",
      "Collecting images for no mask, image number 16\n",
      "data\\images\\no mask.5a9ab86d-bd32-11ec-b32e-04d9f5803693.jpg\n",
      "Collecting images for no mask, image number 17\n",
      "data\\images\\no mask.5a9ab86e-bd32-11ec-9844-04d9f5803693.jpg\n",
      "Collecting images for no mask, image number 18\n",
      "data\\images\\no mask.5a9ab86f-bd32-11ec-be2e-04d9f5803693.jpg\n",
      "Collecting images for no mask, image number 19\n",
      "data\\images\\no mask.5a9ab870-bd32-11ec-be88-04d9f5803693.jpg\n",
      "Collecting images for mask\n",
      "Collecting images for mask, image number 0\n",
      "data\\images\\mask.5a9ab871-bd32-11ec-b877-04d9f5803693.jpg\n",
      "Collecting images for mask, image number 1\n",
      "data\\images\\mask.5a9ab872-bd32-11ec-a8ae-04d9f5803693.jpg\n",
      "Collecting images for mask, image number 2\n",
      "data\\images\\mask.5a9ab873-bd32-11ec-bc60-04d9f5803693.jpg\n",
      "Collecting images for mask, image number 3\n",
      "data\\images\\mask.5a9ab874-bd32-11ec-89dd-04d9f5803693.jpg\n",
      "Collecting images for mask, image number 4\n",
      "data\\images\\mask.5a9ab875-bd32-11ec-963e-04d9f5803693.jpg\n",
      "Collecting images for mask, image number 5\n",
      "data\\images\\mask.5a9ab876-bd32-11ec-a462-04d9f5803693.jpg\n",
      "Collecting images for mask, image number 6\n",
      "data\\images\\mask.5a9ab877-bd32-11ec-825a-04d9f5803693.jpg\n",
      "Collecting images for mask, image number 7\n",
      "data\\images\\mask.5a9ab878-bd32-11ec-b6f9-04d9f5803693.jpg\n",
      "Collecting images for mask, image number 8\n",
      "data\\images\\mask.5a9ab879-bd32-11ec-a424-04d9f5803693.jpg\n",
      "Collecting images for mask, image number 9\n",
      "data\\images\\mask.5a9ab87a-bd32-11ec-8951-04d9f5803693.jpg\n",
      "Collecting images for mask, image number 10\n",
      "data\\images\\mask.5a9ab87b-bd32-11ec-b618-04d9f5803693.jpg\n",
      "Collecting images for mask, image number 11\n",
      "data\\images\\mask.5a9ab87c-bd32-11ec-814a-04d9f5803693.jpg\n",
      "Collecting images for mask, image number 12\n",
      "data\\images\\mask.5a9ab87d-bd32-11ec-868a-04d9f5803693.jpg\n",
      "Collecting images for mask, image number 13\n",
      "data\\images\\mask.5a9ab87e-bd32-11ec-be84-04d9f5803693.jpg\n",
      "Collecting images for mask, image number 14\n",
      "data\\images\\mask.5a9ab87f-bd32-11ec-bfaa-04d9f5803693.jpg\n",
      "Collecting images for mask, image number 15\n",
      "data\\images\\mask.5a9ab880-bd32-11ec-b975-04d9f5803693.jpg\n",
      "Collecting images for mask, image number 16\n",
      "data\\images\\mask.5a9ab881-bd32-11ec-9e18-04d9f5803693.jpg\n",
      "Collecting images for mask, image number 17\n",
      "data\\images\\mask.5a9ab882-bd32-11ec-857b-04d9f5803693.jpg\n",
      "Collecting images for mask, image number 18\n",
      "data\\images\\mask.5a9ab883-bd32-11ec-a82c-04d9f5803693.jpg\n",
      "Collecting images for mask, image number 19\n",
      "data\\images\\mask.5a9ab884-bd32-11ec-ae99-04d9f5803693.jpg\n"
     ]
    }
   ],
   "source": [
    "for label in labels:\n",
    "    print(\"Collecting images for {}\".format(label))\n",
    "    for img_num in range(number_images):\n",
    "        print(\"Collecting images for {}, image number {}\".format(label, img_num))\n",
    "        image_name = os.path.join(IMAGES_PATH, label+'.'+str(uuid.uuid1())+'.jpg')\n",
    "        print(image_name)"
   ]
  },
  {
   "cell_type": "markdown",
   "id": "9dadb15b",
   "metadata": {},
   "source": [
    "### LabelImg used to label pictures taken"
   ]
  },
  {
   "cell_type": "code",
   "execution_count": 17,
   "id": "329f8ac2",
   "metadata": {
    "scrolled": true
   },
   "outputs": [
    {
     "name": "stderr",
     "output_type": "stream",
     "text": [
      "Cloning into 'labelImg'...\n"
     ]
    }
   ],
   "source": [
    "!git clone https://github.com/tzutalin/labelImg"
   ]
  },
  {
   "cell_type": "code",
   "execution_count": 45,
   "id": "52c77a24",
   "metadata": {},
   "outputs": [],
   "source": [
    "#Steps are below to get labelImg running\n",
    "\n",
    "#created a virtual environment\n",
    "!python -m venv venv "
   ]
  },
  {
   "cell_type": "code",
   "execution_count": null,
   "id": "354f3425",
   "metadata": {},
   "outputs": [],
   "source": [
    "#Activated virtual environment\n",
    "!venv\\Scripts\\Activate.bat"
   ]
  },
  {
   "cell_type": "code",
   "execution_count": 27,
   "id": "f9faa7f6",
   "metadata": {
    "collapsed": true
   },
   "outputs": [
    {
     "name": "stdout",
     "output_type": "stream",
     "text": [
      "Collecting pipenv\n",
      "  Using cached pipenv-2022.4.8-py2.py3-none-any.whl (3.6 MB)\n",
      "Requirement already satisfied: setuptools>=36.2.1 in c:\\users\\danny\\anaconda3\\lib\\site-packages (from pipenv) (58.0.4)\n",
      "Collecting virtualenv-clone>=0.2.5\n",
      "  Using cached virtualenv_clone-0.5.7-py3-none-any.whl (6.6 kB)\n",
      "Requirement already satisfied: pip>=18.0 in c:\\users\\danny\\anaconda3\\lib\\site-packages (from pipenv) (21.2.4)\n",
      "Requirement already satisfied: certifi in c:\\users\\danny\\anaconda3\\lib\\site-packages (from pipenv) (2021.10.8)\n",
      "Collecting virtualenv\n",
      "  Using cached virtualenv-20.14.1-py2.py3-none-any.whl (8.8 MB)\n",
      "Collecting distlib<1,>=0.3.1\n",
      "  Using cached distlib-0.3.4-py2.py3-none-any.whl (461 kB)\n",
      "Requirement already satisfied: filelock<4,>=3.2 in c:\\users\\danny\\anaconda3\\lib\\site-packages (from virtualenv->pipenv) (3.3.1)\n",
      "Collecting platformdirs<3,>=2\n",
      "  Using cached platformdirs-2.5.1-py3-none-any.whl (14 kB)\n",
      "Requirement already satisfied: six<2,>=1.9.0 in c:\\users\\danny\\anaconda3\\lib\\site-packages (from virtualenv->pipenv) (1.16.0)\n",
      "Installing collected packages: platformdirs, distlib, virtualenv-clone, virtualenv, pipenv\n",
      "Successfully installed distlib-0.3.4 pipenv-2022.4.8 platformdirs-2.5.1 virtualenv-20.14.1 virtualenv-clone-0.5.7\n"
     ]
    }
   ],
   "source": [
    "!pip install PyQt5 lxml"
   ]
  },
  {
   "cell_type": "code",
   "execution_count": null,
   "id": "5d0c997d",
   "metadata": {},
   "outputs": [],
   "source": [
    "!cd labelImg && pyrcc5 -o libs/resources.py resources.qrc "
   ]
  },
  {
   "cell_type": "code",
   "execution_count": null,
   "id": "a5839239",
   "metadata": {},
   "outputs": [],
   "source": [
    "!python labelImg.py"
   ]
  },
  {
   "cell_type": "code",
   "execution_count": 46,
   "id": "95b43cba",
   "metadata": {},
   "outputs": [
    {
     "name": "stderr",
     "output_type": "stream",
     "text": [
      "\u001b[34m\u001b[1mtrain: \u001b[0mweights=yolov5s.pt, cfg=, data=dataset.yaml, hyp=data\\hyps\\hyp.scratch-low.yaml, epochs=5, batch_size=16, imgsz=320, rect=False, resume=False, nosave=False, noval=False, noautoanchor=False, evolve=None, bucket=, cache=None, image_weights=False, device=, multi_scale=False, single_cls=False, optimizer=SGD, sync_bn=False, workers=8, project=runs\\train, name=exp, exist_ok=False, quad=False, cos_lr=False, label_smoothing=0.0, patience=100, freeze=[0], save_period=-1, local_rank=-1, entity=None, upload_dataset=False, bbox_interval=-1, artifact_alias=latest\n",
      "\u001b[34m\u001b[1mgithub: \u001b[0mup to date with https://github.com/ultralytics/yolov5 \n",
      "Traceback (most recent call last):\n",
      "  File \"C:\\Users\\Danny\\Desktop\\object-detection\\yolov5\\train.py\", line 667, in <module>\n",
      "    main(opt)\n",
      "  File \"C:\\Users\\Danny\\Desktop\\object-detection\\yolov5\\train.py\", line 537, in main\n",
      "    check_file(opt.data), check_yaml(opt.cfg), check_yaml(opt.hyp), str(opt.weights), str(opt.project)  # checks\n",
      "  File \"C:\\Users\\Danny\\Desktop\\object-detection\\yolov5\\utils\\general.py\", line 422, in check_file\n",
      "    assert len(files), f'File not found: {file}'  # assert file was found\n",
      "AssertionError: File not found: dataset.yaml\n"
     ]
    }
   ],
   "source": [
    "!cd yolov5 && python train.py --img 320 --batch 16 --epochs 5 --data dataset.yaml --weights yolov5s.pt"
   ]
  },
  {
   "cell_type": "markdown",
   "id": "1087fe6f",
   "metadata": {},
   "source": [
    "#  Custom Model"
   ]
  },
  {
   "cell_type": "code",
   "execution_count": null,
   "id": "ff883c7b",
   "metadata": {},
   "outputs": [],
   "source": []
  },
  {
   "cell_type": "code",
   "execution_count": null,
   "id": "7ae7c363",
   "metadata": {},
   "outputs": [],
   "source": []
  },
  {
   "cell_type": "code",
   "execution_count": null,
   "id": "7cabf495",
   "metadata": {},
   "outputs": [],
   "source": []
  }
 ],
 "metadata": {
  "kernelspec": {
   "display_name": "Python 3 (ipykernel)",
   "language": "python",
   "name": "python3"
  },
  "language_info": {
   "codemirror_mode": {
    "name": "ipython",
    "version": 3
   },
   "file_extension": ".py",
   "mimetype": "text/x-python",
   "name": "python",
   "nbconvert_exporter": "python",
   "pygments_lexer": "ipython3",
   "version": "3.9.7"
  }
 },
 "nbformat": 4,
 "nbformat_minor": 5
}
